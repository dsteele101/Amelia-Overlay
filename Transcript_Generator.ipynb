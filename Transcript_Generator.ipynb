{
  "nbformat": 4,
  "nbformat_minor": 0,
  "metadata": {
    "colab": {
      "provenance": [],
      "authorship_tag": "ABX9TyOO6P0feCh+gaSCGyv3UiPq",
      "include_colab_link": true
    },
    "kernelspec": {
      "name": "python3",
      "display_name": "Python 3"
    },
    "language_info": {
      "name": "python"
    }
  },
  "cells": [
    {
      "cell_type": "markdown",
      "metadata": {
        "id": "view-in-github",
        "colab_type": "text"
      },
      "source": [
        "<a href=\"https://colab.research.google.com/github/dsteele101/Amelia-Overlay/blob/main/Transcript_Generator.ipynb\" target=\"_parent\"><img src=\"https://colab.research.google.com/assets/colab-badge.svg\" alt=\"Open In Colab\"/></a>"
      ]
    },
    {
      "cell_type": "markdown",
      "source": [
        "# **Transcript Generator**\n",
        "\n",
        "The below notebook will generate transcripts for use cases.\n",
        "\n",
        "Replace the text in the variables CUSTOMER and USE_CASE to guide what transcripts are generated.\n",
        "\n",
        "Replace TOKEN with your OpenAI API key.\n",
        "\n",
        "Files are stored in Google Drive. Click on the folder icon in CoLab to view them."
      ],
      "metadata": {
        "id": "PJd0ADm7pcJR"
      }
    },
    {
      "cell_type": "code",
      "execution_count": null,
      "metadata": {
        "id": "8xYou3s7kpg0"
      },
      "outputs": [],
      "source": [
        "import json\n",
        "import re\n",
        "import requests\n",
        "from multiprocessing import Pool"
      ]
    },
    {
      "cell_type": "code",
      "source": [
        "CUSTOMER = \"Amelia.ai\"\n",
        "USE_CASE = \"IT Service Desk\"\n",
        "NUM_TRANSCRIPTS = 10\n",
        "PROMPT = f\"Generate chat transcripts labeled as user and agent. These transcripts should revolve around {CUSTOMER} {USE_CASE} topics, make sure there are at least four turns in each transcript. Each turn of a transcript should only be a single line. Each transcript should deal with a unique issue. The start of each transcript should contain a line which reads START OF TRANSCRIPT. The end of each transcript should contain a line which reads END OF TRANSCRIPT.\"\n",
        "MAX_TRANSCRIPTS_PER_API_CALL = 5\n",
        "TOKEN = \"\""
      ],
      "metadata": {
        "id": "okrCE5V_lSjv"
      },
      "execution_count": null,
      "outputs": []
    },
    {
      "cell_type": "code",
      "source": [
        "def extract_transcripts(text):\n",
        "    transcript_blocks = re.findall(r\"START OF TRANSCRIPT(.*?)END OF TRANSCRIPT\", text, re.DOTALL)\n",
        "    transcript_blocks = [block.strip() for block in transcript_blocks]\n",
        "    return transcript_blocks"
      ],
      "metadata": {
        "id": "psbjpKO3CaWE"
      },
      "execution_count": null,
      "outputs": []
    },
    {
      "cell_type": "code",
      "source": [
        "def generate_transcripts(counter):\n",
        "    transcripts_remaining = NUM_TRANSCRIPTS - counter\n",
        "    transcripts_to_generate = min(transcripts_remaining, MAX_TRANSCRIPTS_PER_API_CALL)\n",
        "    prompt = f\"{PROMPT} Generate {transcripts_to_generate} transcripts.\"\n",
        "    pre_json = f'{{\"model\": \"gpt-3.5-turbo-0613\", \"messages\": [{{\"role\": \"user\", \"content\": \"{prompt}\"}}], \"temperature\": 0.7}}'\n",
        "    payload = json.loads(pre_json)\n",
        "    headers = {'Authorization': 'Bearer ' + TOKEN}\n",
        "    r = requests.post('https://api.openai.com/v1/chat/completions', json=payload, headers=headers, verify=False)\n",
        "    res = r.json()\n",
        "    print(res)\n",
        "    generated_transcripts = [choice[\"message\"][\"content\"] for choice in res[\"choices\"]]\n",
        "\n",
        "    formatted_transcripts = []\n",
        "    for transcript in generated_transcripts:\n",
        "        transcript_blocks = extract_transcripts(transcript)\n",
        "\n",
        "        for i, block in enumerate(transcript_blocks, start=counter):\n",
        "            cleaned_block = re.sub(r\"^\\w+\\s+\", \"\", block, flags=re.MULTILINE)\n",
        "            formatted_transcripts.append(cleaned_block)\n",
        "            print(f'Transcript {i} formatted successfully.')\n",
        "\n",
        "            if len(formatted_transcripts) == NUM_TRANSCRIPTS:\n",
        "                break  # Break the loop if the desired number of transcripts is reached\n",
        "\n",
        "        counter += 1  # Increment the counter\n",
        "\n",
        "        if counter == NUM_TRANSCRIPTS:\n",
        "            break  # Break the loop if the desired number of transcripts is reached\n",
        "\n",
        "    return formatted_transcripts"
      ],
      "metadata": {
        "id": "zTxd69kElmO7"
      },
      "execution_count": null,
      "outputs": []
    },
    {
      "cell_type": "code",
      "source": [
        "def main():\n",
        "    pool = Pool()  # Create a process pool\n",
        "\n",
        "    # Generate transcripts in parallel\n",
        "    transcripts_counter = 0\n",
        "    results = []\n",
        "    while transcripts_counter < NUM_TRANSCRIPTS:\n",
        "        results.append(pool.apply_async(generate_transcripts, args=(transcripts_counter,)))\n",
        "        transcripts_counter += MAX_TRANSCRIPTS_PER_API_CALL\n",
        "\n",
        "    pool.close()\n",
        "    pool.join()\n",
        "\n",
        "    # Retrieve the results from each process\n",
        "    transcripts = []\n",
        "    for result in results:\n",
        "        transcripts.extend(result.get())\n",
        "\n",
        "    # Save the transcripts to separate files\n",
        "    for i, transcript in enumerate(transcripts):\n",
        "        cleaned_customer = re.sub(r'\\W+', '', CUSTOMER).replace('\\n', '_')\n",
        "        filename = f'{cleaned_customer}_transcript_{i:03}.txt'\n",
        "        with open(filename, 'w') as file:\n",
        "            file.write(transcript)\n",
        "\n",
        "        print(f'File {filename} created successfully.')\n",
        "\n",
        "    print(f\"{NUM_TRANSCRIPTS} transcripts generated successfully.\")"
      ],
      "metadata": {
        "id": "HIBP9mxkl6H8"
      },
      "execution_count": null,
      "outputs": []
    },
    {
      "cell_type": "code",
      "source": [
        "if __name__ == \"__main__\":\n",
        "    main()"
      ],
      "metadata": {
        "colab": {
          "base_uri": "https://localhost:8080/"
        },
        "id": "zbULt8mtl9Zv",
        "outputId": "44442f56-7a09-4533-ed39-ba264a6f361e"
      },
      "execution_count": null,
      "outputs": [
        {
          "output_type": "stream",
          "name": "stderr",
          "text": [
            "/usr/local/lib/python3.10/dist-packages/urllib3/connectionpool.py:1045: InsecureRequestWarning: Unverified HTTPS request is being made to host 'api.openai.com'. Adding certificate verification is strongly advised. See: https://urllib3.readthedocs.io/en/1.26.x/advanced-usage.html#ssl-warnings\n",
            "  warnings.warn(\n"
          ]
        },
        {
          "output_type": "stream",
          "name": "stdout",
          "text": [
            "{'id': 'chatcmpl-7RRb6nsOncmhlxKIIYhWEnwJQ9u2r', 'object': 'chat.completion', 'created': 1686775296, 'model': 'gpt-4-0314', 'usage': {'prompt_tokens': 47, 'completion_tokens': 615, 'total_tokens': 662}, 'choices': [{'message': {'role': 'assistant', 'content': \"User: Hi, I'm interested in Amelia.ai and I'd like to know more about how it can help my business.\\n\\nAgent: Hello! Amelia.ai is an AI-powered digital employee that can assist your business by automating tasks, providing customer support, and improving efficiency. It can be integrated with your existing systems and can be trained to perform a wide range of tasks, including handling customer inquiries, processing transactions, and providing personalized recommendations. Would you like to know more about its features or how to get started with Amelia.ai?\\n\\nUser: Yes, I'd like to know more about its features and how it can be customized for my business.\\n\\nAgent: Amelia.ai offers a variety of features that can be customized to fit your business needs. Some of its key features include natural language understanding, machine learning, sentiment analysis, and integration with various platforms. It can be trained to understand and handle industry-specific terminology and processes.\\n\\nYou can also set up custom workflows and processes that Amelia can follow, ensuring that it performs tasks according to your business requirements. Additionally, you can integrate Amelia.ai with your existing CRM, ERP, and other systems to streamline operations and improve efficiency. \\n\\nUser: That sounds great! Can you give me an example of how Amelia.ai has been successfully implemented in a business?\\n\\nAgent: Absolutely! One example is a major European bank that implemented Amelia.ai to handle customer inquiries and assist with account management. Amelia was able to understand customer questions, provide accurate responses, and even perform transactions such as balance inquiries and money transfers. This resulted in a significant reduction in call center volume, increased customer satisfaction, and improved efficiency.\\n\\nIn another example, a global telecommunications company used Amelia.ai to assist customers with their technical issues. Amelia was able to diagnose problems, guide customers through troubleshooting steps, and even remotely fix issues, leading to a reduction in support tickets and improved customer experience.\\n\\nUser: That's impressive! How do I get started with Amelia.ai and what is the onboarding process like?\\n\\nAgent: To get started with Amelia.ai, you can contact our sales team through our website to schedule a demo and discuss your business needs. Our team will work with you to understand your requirements and provide a solution tailored to your organization. \\n\\nThe onboarding process typically includes the following steps:\\n1. Identifying key use cases and goals for your business.\\n2. Setting up the necessary integrations with your existing systems.\\n3. Training Amelia.ai on your specific workflows, processes, and terminology.\\n4. Testing and refining Amelia's performance to ensure it meets your requirements.\\n5. Deploying Amelia.ai and monitoring its performance for continuous improvement.\\n\\nOur team will be with you throughout the entire process, providing support and guidance to ensure a smooth implementation.\\n\\nUser: That's fantastic! Thank you for the information. I'll definitely consider Amelia.ai for my business.\\n\\nAgent: You're welcome! If you have any more questions or need assistance, feel free to reach out to us. We're here to help. Good luck with your business, and we hope to work with you soon!\"}, 'finish_reason': 'stop', 'index': 0}]}\n",
            "Transcript 0 formatted successfully.\n",
            "File Ameliaai_transcript_0.txt created successfully.\n",
            "1 transcripts generated successfully.\n"
          ]
        }
      ]
    },
    {
      "cell_type": "markdown",
      "source": [],
      "metadata": {
        "id": "VJeEJF1QlNdM"
      }
    }
  ]
}